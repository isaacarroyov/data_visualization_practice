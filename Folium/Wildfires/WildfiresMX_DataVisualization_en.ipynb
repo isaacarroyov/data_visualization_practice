{
 "cells": [
  {
   "cell_type": "markdown",
   "metadata": {},
   "source": [
    "# Visualizing wildfires in Mexico during 2017"
   ]
  },
  {
   "cell_type": "code",
   "execution_count": null,
   "metadata": {},
   "outputs": [],
   "source": [
    "import numpy as np\n",
    "import pandas as pd\n",
    "import matplotlib.pyplot as plt\n",
    "from astroML.plotting import setup_text_plots\n",
    "setup_text_plots(usetex=True)\n",
    "\n",
    "#colours being used\n",
    "colours = [ '#264653', '#2A9D8F', '#E9C46A', '#F4A261', '#E76F51' ]\n",
    "\n",
    "#load data\n",
    "load_data = 'data/Annual_Fire_History_Series_MX_(2017).xlsx'\n",
    "#load_data = ''"
   ]
  }
 ],
 "metadata": {
  "kernelspec": {
   "display_name": "Python 3",
   "language": "python",
   "name": "python3"
  },
  "language_info": {
   "codemirror_mode": {
    "name": "ipython",
    "version": 3
   },
   "file_extension": ".py",
   "mimetype": "text/x-python",
   "name": "python",
   "nbconvert_exporter": "python",
   "pygments_lexer": "ipython3",
   "version": "3.8.5"
  }
 },
 "nbformat": 4,
 "nbformat_minor": 4
}
