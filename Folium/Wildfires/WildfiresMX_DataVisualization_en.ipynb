{
 "cells": [
  {
   "cell_type": "markdown",
   "metadata": {},
   "source": [
    "# Visualizing wildfires in Mexico during 2017"
   ]
  },
  {
   "cell_type": "code",
   "execution_count": 1,
   "metadata": {},
   "outputs": [],
   "source": [
    "import numpy as np\n",
    "import pandas as pd\n",
    "import matplotlib.pyplot as plt\n",
    "from astroML.plotting import setup_text_plots\n",
    "setup_text_plots(usetex=True)\n",
    "\n",
    "#colours being used\n",
    "colours = [ '#264653', '#2A9D8F', '#E9C46A', '#F4A261', '#E76F51' ]\n",
    "\n",
    "#load data\n",
    "#load_data = 'data/Annual_Fire_History_Series_MX_(2017).xlsx'\n",
    "load_data = 'https://github.com/isaacarroyov/data_visualization_practice/blob/master/Folium/Wildfires/data/Annual_Fire_History_Series_MX_(2017).xlsx?raw=true'"
   ]
  },
  {
   "cell_type": "markdown",
   "metadata": {},
   "source": [
    "## The data: Where does it come from? "
   ]
  },
  {
   "cell_type": "code",
   "execution_count": 2,
   "metadata": {},
   "outputs": [
    {
     "data": {
      "text/html": [
       "<div>\n",
       "<style scoped>\n",
       "    .dataframe tbody tr th:only-of-type {\n",
       "        vertical-align: middle;\n",
       "    }\n",
       "\n",
       "    .dataframe tbody tr th {\n",
       "        vertical-align: top;\n",
       "    }\n",
       "\n",
       "    .dataframe thead th {\n",
       "        text-align: right;\n",
       "    }\n",
       "</style>\n",
       "<table border=\"1\" class=\"dataframe\">\n",
       "  <thead>\n",
       "    <tr style=\"text-align: right;\">\n",
       "      <th></th>\n",
       "      <th>Número de Incendio</th>\n",
       "      <th>Clave del incendio</th>\n",
       "      <th>Degrees</th>\n",
       "      <th>Minutes</th>\n",
       "      <th>Seconds</th>\n",
       "      <th>Degrees.1</th>\n",
       "      <th>Minutes.1</th>\n",
       "      <th>Seconds.1</th>\n",
       "      <th>Clave municipio</th>\n",
       "      <th>STATE</th>\n",
       "      <th>...</th>\n",
       "      <th>Gobierno del Estado</th>\n",
       "      <th>Municipios</th>\n",
       "      <th>Propietarios de Terrenos Forestales</th>\n",
       "      <th>Voluntarios</th>\n",
       "      <th>Federales</th>\n",
       "      <th>Total.1</th>\n",
       "      <th>Categoria</th>\n",
       "      <th>Tipo</th>\n",
       "      <th>Region</th>\n",
       "      <th>Unnamed: 52</th>\n",
       "    </tr>\n",
       "  </thead>\n",
       "  <tbody>\n",
       "    <tr>\n",
       "      <th>0</th>\n",
       "      <td>1</td>\n",
       "      <td>17-01-0001</td>\n",
       "      <td>21</td>\n",
       "      <td>53</td>\n",
       "      <td>53.70</td>\n",
       "      <td>102</td>\n",
       "      <td>49</td>\n",
       "      <td>18.80</td>\n",
       "      <td>3</td>\n",
       "      <td>Aguascalientes</td>\n",
       "      <td>...</td>\n",
       "      <td>0</td>\n",
       "      <td>9</td>\n",
       "      <td>0</td>\n",
       "      <td>6</td>\n",
       "      <td>0</td>\n",
       "      <td>15</td>\n",
       "      <td>Área de Protección de los Recursos Naturales Z...</td>\n",
       "      <td>Federal</td>\n",
       "      <td>Occidente</td>\n",
       "      <td>NaN</td>\n",
       "    </tr>\n",
       "    <tr>\n",
       "      <th>1</th>\n",
       "      <td>2</td>\n",
       "      <td>17-01-0002</td>\n",
       "      <td>21</td>\n",
       "      <td>49</td>\n",
       "      <td>44.00</td>\n",
       "      <td>102</td>\n",
       "      <td>7</td>\n",
       "      <td>26.40</td>\n",
       "      <td>10</td>\n",
       "      <td>Aguascalientes</td>\n",
       "      <td>...</td>\n",
       "      <td>0</td>\n",
       "      <td>8</td>\n",
       "      <td>0</td>\n",
       "      <td>5</td>\n",
       "      <td>0</td>\n",
       "      <td>13</td>\n",
       "      <td>NaN</td>\n",
       "      <td>NaN</td>\n",
       "      <td>Occidente</td>\n",
       "      <td>NaN</td>\n",
       "    </tr>\n",
       "    <tr>\n",
       "      <th>2</th>\n",
       "      <td>3</td>\n",
       "      <td>17-01-0003</td>\n",
       "      <td>21</td>\n",
       "      <td>52</td>\n",
       "      <td>3.25</td>\n",
       "      <td>102</td>\n",
       "      <td>23</td>\n",
       "      <td>30.00</td>\n",
       "      <td>1</td>\n",
       "      <td>Aguascalientes</td>\n",
       "      <td>...</td>\n",
       "      <td>10</td>\n",
       "      <td>10</td>\n",
       "      <td>3</td>\n",
       "      <td>13</td>\n",
       "      <td>0</td>\n",
       "      <td>39</td>\n",
       "      <td>NaN</td>\n",
       "      <td>NaN</td>\n",
       "      <td>Occidente</td>\n",
       "      <td>NaN</td>\n",
       "    </tr>\n",
       "    <tr>\n",
       "      <th>3</th>\n",
       "      <td>4</td>\n",
       "      <td>17-01-0004</td>\n",
       "      <td>21</td>\n",
       "      <td>43</td>\n",
       "      <td>17.12</td>\n",
       "      <td>102</td>\n",
       "      <td>21</td>\n",
       "      <td>52.45</td>\n",
       "      <td>1</td>\n",
       "      <td>Aguascalientes</td>\n",
       "      <td>...</td>\n",
       "      <td>4</td>\n",
       "      <td>4</td>\n",
       "      <td>4</td>\n",
       "      <td>5</td>\n",
       "      <td>0</td>\n",
       "      <td>20</td>\n",
       "      <td>NaN</td>\n",
       "      <td>NaN</td>\n",
       "      <td>Occidente</td>\n",
       "      <td>NaN</td>\n",
       "    </tr>\n",
       "    <tr>\n",
       "      <th>4</th>\n",
       "      <td>5</td>\n",
       "      <td>17-01-0005</td>\n",
       "      <td>21</td>\n",
       "      <td>59</td>\n",
       "      <td>14.80</td>\n",
       "      <td>102</td>\n",
       "      <td>12</td>\n",
       "      <td>34.54</td>\n",
       "      <td>11</td>\n",
       "      <td>Aguascalientes</td>\n",
       "      <td>...</td>\n",
       "      <td>3</td>\n",
       "      <td>10</td>\n",
       "      <td>0</td>\n",
       "      <td>6</td>\n",
       "      <td>0</td>\n",
       "      <td>26</td>\n",
       "      <td>NaN</td>\n",
       "      <td>NaN</td>\n",
       "      <td>Occidente</td>\n",
       "      <td>NaN</td>\n",
       "    </tr>\n",
       "  </tbody>\n",
       "</table>\n",
       "<p>5 rows × 53 columns</p>\n",
       "</div>"
      ],
      "text/plain": [
       "   Número de Incendio Clave del incendio Degrees  Minutes  Seconds  Degrees.1  \\\n",
       "0                   1         17-01-0001      21       53    53.70        102   \n",
       "1                   2         17-01-0002      21       49    44.00        102   \n",
       "2                   3         17-01-0003      21       52     3.25        102   \n",
       "3                   4         17-01-0004      21       43    17.12        102   \n",
       "4                   5         17-01-0005      21       59    14.80        102   \n",
       "\n",
       "   Minutes.1  Seconds.1  Clave municipio           STATE  ...  \\\n",
       "0         49      18.80                3  Aguascalientes  ...   \n",
       "1          7      26.40               10  Aguascalientes  ...   \n",
       "2         23      30.00                1  Aguascalientes  ...   \n",
       "3         21      52.45                1  Aguascalientes  ...   \n",
       "4         12      34.54               11  Aguascalientes  ...   \n",
       "\n",
       "  Gobierno del Estado Municipios Propietarios de Terrenos Forestales  \\\n",
       "0                   0          9                                   0   \n",
       "1                   0          8                                   0   \n",
       "2                  10         10                                   3   \n",
       "3                   4          4                                   4   \n",
       "4                   3         10                                   0   \n",
       "\n",
       "  Voluntarios Federales Total.1  \\\n",
       "0           6         0      15   \n",
       "1           5         0      13   \n",
       "2          13         0      39   \n",
       "3           5         0      20   \n",
       "4           6         0      26   \n",
       "\n",
       "                                           Categoria    Tipo      Region  \\\n",
       "0  Área de Protección de los Recursos Naturales Z...  Federal  Occidente   \n",
       "1                                                NaN      NaN  Occidente   \n",
       "2                                                NaN      NaN  Occidente   \n",
       "3                                                NaN      NaN  Occidente   \n",
       "4                                                NaN      NaN  Occidente   \n",
       "\n",
       "   Unnamed: 52  \n",
       "0          NaN  \n",
       "1          NaN  \n",
       "2          NaN  \n",
       "3          NaN  \n",
       "4          NaN  \n",
       "\n",
       "[5 rows x 53 columns]"
      ]
     },
     "execution_count": 2,
     "metadata": {},
     "output_type": "execute_result"
    }
   ],
   "source": [
    "#importing data and save it as pandas DataFrame\n",
    "changes = {\n",
    "    'Grados':'Degrees', 'Minutos':'Minutes', 'Segundos':'Seconds',\n",
    "    'Grados.1':'Degrees.1', 'Minutos.1':'Minutes.1', 'Segundos.1':'Seconds.1',\n",
    "    'Duración días': 'Duration in days', 'Total':'Total area affected', 'Estado':'STATE'\n",
    "    }\n",
    "df = pd.read_excel(load_data).rename(columns = changes)\n",
    "df.head()"
   ]
  },
  {
   "cell_type": "markdown",
   "metadata": {},
   "source": [
    "## Exploratory Data Analysis (EDA)"
   ]
  },
  {
   "cell_type": "markdown",
   "metadata": {},
   "source": [
    "### General observations"
   ]
  },
  {
   "cell_type": "markdown",
   "metadata": {},
   "source": [
    "**DataFrame structure**"
   ]
  },
  {
   "cell_type": "code",
   "execution_count": null,
   "metadata": {},
   "outputs": [],
   "source": [
    "print('Number of rows: {}'.format(df.shape[0]))\n",
    "print('Number of columns: {}'.format(df.shape[1]))"
   ]
  },
  {
   "cell_type": "markdown",
   "metadata": {},
   "source": [
    "**Name of columns**"
   ]
  },
  {
   "cell_type": "code",
   "execution_count": null,
   "metadata": {},
   "outputs": [],
   "source": [
    "print('Name of the columns:\\n')\n",
    "df.columns.values"
   ]
  },
  {
   "cell_type": "markdown",
   "metadata": {},
   "source": [
    "**Data types**"
   ]
  },
  {
   "cell_type": "code",
   "execution_count": null,
   "metadata": {},
   "outputs": [],
   "source": [
    "df.dtypes"
   ]
  },
  {
   "cell_type": "markdown",
   "metadata": {},
   "source": [
    "**Statistical sumary**"
   ]
  },
  {
   "cell_type": "code",
   "execution_count": null,
   "metadata": {},
   "outputs": [],
   "source": [
    "df.describe().T"
   ]
  },
  {
   "cell_type": "markdown",
   "metadata": {},
   "source": [
    "### Missing Values"
   ]
  },
  {
   "cell_type": "code",
   "execution_count": null,
   "metadata": {},
   "outputs": [],
   "source": [
    "missing_values = df.isnull().sum()\n",
    "total_cells = np.product(df.shape)\n",
    "total_missing = missing_values.sum()\n",
    "perc_nan_rows = (total_missing/total_cells) * 100\n",
    "\n",
    "print('We have {} % rows with at least one missing value\\n\\n'.format(perc_nan_rows) )\n",
    "\n",
    "for i in df.columns.values:\n",
    "    # count number of rows with missing values\n",
    "    n_miss = df[i].isnull().sum()\n",
    "    perc = n_miss / df[i].shape[0] * 100\n",
    "    print(i, 'has', n_miss , 'missing values. This means ', perc, ' % from the total\\n')"
   ]
  },
  {
   "cell_type": "markdown",
   "metadata": {},
   "source": [
    "## Unit conversion"
   ]
  },
  {
   "cell_type": "markdown",
   "metadata": {},
   "source": [
    "### Suspicious data"
   ]
  },
  {
   "cell_type": "code",
   "execution_count": null,
   "metadata": {},
   "outputs": [],
   "source": [
    "df['Degrees'].value_counts()"
   ]
  },
  {
   "cell_type": "code",
   "execution_count": null,
   "metadata": {},
   "outputs": [],
   "source": [
    "correction = np.where( df['Degrees'].values != '19°', df['Degrees'].values, 19 )\n",
    "df['Degrees'] = correction\n",
    "df['Degrees'].value_counts()"
   ]
  },
  {
   "cell_type": "markdown",
   "metadata": {},
   "source": [
    "### Conversion function"
   ]
  },
  {
   "cell_type": "code",
   "execution_count": null,
   "metadata": {},
   "outputs": [],
   "source": [
    "df[['Degrees', 'Minutes', 'Seconds','Degrees.1', 'Minutes.1', 'Seconds.1']].dtypes"
   ]
  },
  {
   "cell_type": "code",
   "execution_count": null,
   "metadata": {},
   "outputs": [],
   "source": [
    "df['Degrees'].astype(int)"
   ]
  },
  {
   "cell_type": "code",
   "execution_count": null,
   "metadata": {},
   "outputs": [],
   "source": [
    "def degrees2decimal(a_degree, a_minute, a_second):\n",
    "    degree = a_degree.astype(int)\n",
    "    minute = a_minute.astype(int)\n",
    "    second = a_second.astype(int)\n",
    "    return degree + minute/60 + second/3600"
   ]
  },
  {
   "cell_type": "code",
   "execution_count": null,
   "metadata": {},
   "outputs": [],
   "source": [
    "df['Latitude'] = degrees2decimal( df['Degrees'], df['Minutes'], df['Seconds'] )\n",
    "df['Longitude'] = degrees2decimal( df['Degrees.1'], df['Minutes.1'], df['Seconds.1'] )\n",
    "df['Longitude'] = df['Longitude'].values * -1\n",
    "df.drop(columns = ['Degrees', 'Minutes', 'Seconds', 'Degrees.1', 'Minutes.1', 'Seconds.1'], inplace=True)"
   ]
  },
  {
   "cell_type": "code",
   "execution_count": null,
   "metadata": {},
   "outputs": [],
   "source": [
    "df.head()"
   ]
  },
  {
   "cell_type": "markdown",
   "metadata": {},
   "source": [
    "## Visualizing wildfire information with `folium`"
   ]
  },
  {
   "cell_type": "code",
   "execution_count": null,
   "metadata": {},
   "outputs": [],
   "source": []
  },
  {
   "cell_type": "code",
   "execution_count": null,
   "metadata": {},
   "outputs": [],
   "source": []
  },
  {
   "cell_type": "code",
   "execution_count": null,
   "metadata": {},
   "outputs": [],
   "source": []
  },
  {
   "cell_type": "code",
   "execution_count": null,
   "metadata": {},
   "outputs": [],
   "source": []
  },
  {
   "cell_type": "code",
   "execution_count": null,
   "metadata": {},
   "outputs": [],
   "source": []
  },
  {
   "cell_type": "code",
   "execution_count": null,
   "metadata": {},
   "outputs": [],
   "source": []
  },
  {
   "cell_type": "code",
   "execution_count": null,
   "metadata": {},
   "outputs": [],
   "source": []
  }
 ],
 "metadata": {
  "kernelspec": {
   "display_name": "Python 3",
   "language": "python",
   "name": "python3"
  },
  "language_info": {
   "codemirror_mode": {
    "name": "ipython",
    "version": 3
   },
   "file_extension": ".py",
   "mimetype": "text/x-python",
   "name": "python",
   "nbconvert_exporter": "python",
   "pygments_lexer": "ipython3",
   "version": "3.8.5"
  }
 },
 "nbformat": 4,
 "nbformat_minor": 4
}
